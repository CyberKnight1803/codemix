{
 "cells": [
  {
   "cell_type": "code",
   "execution_count": 27,
   "metadata": {},
   "outputs": [],
   "source": [
    "import torch \n",
    "import torch.nn as nn \n",
    "import torch.nn.functional as F \n",
    "\n",
    "import pytorch_lightning as pl \n",
    "\n",
    "from torchcrf import CRF"
   ]
  },
  {
   "cell_type": "code",
   "execution_count": 28,
   "metadata": {},
   "outputs": [],
   "source": [
    "class sampleModel(pl.LightningModule):\n",
    "    def __init__(\n",
    "        self, \n",
    "        lr1 = 0.01, \n",
    "        lr2 = 0.02, \n",
    "        lr3 = 0.03,\n",
    "    ) -> None: \n",
    "\n",
    "        super().__init__()\n",
    "        self.save_hyperparameters()\n",
    "\n",
    "        # Net 1 \n",
    "        self.netA = nn.Sequential(\n",
    "            nn.Linear(128, 32), \n",
    "            nn.GELU(), \n",
    "            nn.Linear(32, 1), \n",
    "        )\n",
    "\n",
    "        # Net 2 \n",
    "        self.netB = nn.Sequential(\n",
    "            nn.Linear(256, 128), \n",
    "            nn.GELU(), \n",
    "            nn.Linear(128, 32), \n",
    "            nn.GELU(), \n",
    "            nn.Linear(32, 8),\n",
    "            nn.GELU(), \n",
    "            nn.Linear(8, 1)\n",
    "        )\n",
    "\n",
    "        # list \n",
    "\n",
    "        self.bi_lstm = nn.LSTM(\n",
    "            input_size=768, \n",
    "            hidden_size=256,\n",
    "            bidirectional=True,\n",
    "            batch_first=True\n",
    "        )\n",
    "\n",
    "        self.crf = CRF(\n",
    "            num_tags=4,\n",
    "            batch_first=True\n",
    "        )"
   ]
  },
  {
   "cell_type": "code",
   "execution_count": 29,
   "metadata": {},
   "outputs": [],
   "source": [
    "model = sampleModel()"
   ]
  },
  {
   "cell_type": "code",
   "execution_count": 30,
   "metadata": {},
   "outputs": [
    {
     "data": {
      "text/plain": [
       "<bound method Module.parameters of sampleModel(\n",
       "  (netA): Sequential(\n",
       "    (0): Linear(in_features=128, out_features=32, bias=True)\n",
       "    (1): GELU(approximate=none)\n",
       "    (2): Linear(in_features=32, out_features=1, bias=True)\n",
       "  )\n",
       "  (netB): Sequential(\n",
       "    (0): Linear(in_features=256, out_features=128, bias=True)\n",
       "    (1): GELU(approximate=none)\n",
       "    (2): Linear(in_features=128, out_features=32, bias=True)\n",
       "    (3): GELU(approximate=none)\n",
       "    (4): Linear(in_features=32, out_features=8, bias=True)\n",
       "    (5): GELU(approximate=none)\n",
       "    (6): Linear(in_features=8, out_features=1, bias=True)\n",
       "  )\n",
       "  (bi_lstm): LSTM(768, 256, batch_first=True, bidirectional=True)\n",
       "  (crf): CRF(num_tags=4)\n",
       ")>"
      ]
     },
     "execution_count": 30,
     "metadata": {},
     "output_type": "execute_result"
    }
   ],
   "source": [
    "model.parameters"
   ]
  },
  {
   "cell_type": "code",
   "execution_count": 31,
   "metadata": {},
   "outputs": [
    {
     "data": {
      "text/plain": [
       "<bound method Module.parameters of Sequential(\n",
       "  (0): Linear(in_features=128, out_features=32, bias=True)\n",
       "  (1): GELU(approximate=none)\n",
       "  (2): Linear(in_features=32, out_features=1, bias=True)\n",
       ")>"
      ]
     },
     "execution_count": 31,
     "metadata": {},
     "output_type": "execute_result"
    }
   ],
   "source": [
    "model.netA.parameters"
   ]
  },
  {
   "cell_type": "code",
   "execution_count": 33,
   "metadata": {},
   "outputs": [
    {
     "name": "stdout",
     "output_type": "stream",
     "text": [
      "start_transitions\n",
      "end_transitions\n",
      "transitions\n"
     ]
    }
   ],
   "source": [
    "for n, p in model.crf.named_parameters():\n",
    "    print(n)"
   ]
  },
  {
   "cell_type": "code",
   "execution_count": null,
   "metadata": {},
   "outputs": [],
   "source": []
  },
  {
   "cell_type": "code",
   "execution_count": null,
   "metadata": {},
   "outputs": [],
   "source": []
  }
 ],
 "metadata": {
  "interpreter": {
   "hash": "676cbb9c10f3f58bc12af61bfeed9dabc304643a8e9c72b5091b06c622160f11"
  },
  "kernelspec": {
   "display_name": "Python 3.8.13 ('codemix')",
   "language": "python",
   "name": "python3"
  },
  "language_info": {
   "codemirror_mode": {
    "name": "ipython",
    "version": 3
   },
   "file_extension": ".py",
   "mimetype": "text/x-python",
   "name": "python",
   "nbconvert_exporter": "python",
   "pygments_lexer": "ipython3",
   "version": "3.8.13"
  },
  "orig_nbformat": 4
 },
 "nbformat": 4,
 "nbformat_minor": 2
}
